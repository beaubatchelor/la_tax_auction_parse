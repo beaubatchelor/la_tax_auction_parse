{
 "cells": [
  {
   "cell_type": "code",
   "execution_count": null,
   "id": "7b0a3270",
   "metadata": {},
   "outputs": [],
   "source": [
    "import pandas as pd"
   ]
  },
  {
   "cell_type": "code",
   "execution_count": null,
   "id": "756587d9",
   "metadata": {},
   "outputs": [],
   "source": [
    "path = r\"C:\\Users\\Roshi\\Downloads\\Assessor_Parcels_Data_-_2006_thru_2021_output.csv\""
   ]
  },
  {
   "cell_type": "code",
   "execution_count": null,
   "id": "eee0596e",
   "metadata": {},
   "outputs": [],
   "source": [
    "assessors_df = pd.read_csv(path)\n"
   ]
  },
  {
   "cell_type": "code",
   "execution_count": null,
   "id": "ac8b912b",
   "metadata": {},
   "outputs": [],
   "source": [
    "assessors_df.head()"
   ]
  }
 ],
 "metadata": {
  "kernelspec": {
   "display_name": "base",
   "language": "python",
   "name": "python3"
  },
  "language_info": {
   "codemirror_mode": {
    "name": "ipython",
    "version": 3
   },
   "file_extension": ".py",
   "mimetype": "text/x-python",
   "name": "python",
   "nbconvert_exporter": "python",
   "pygments_lexer": "ipython3",
   "version": "3.11.7"
  }
 },
 "nbformat": 4,
 "nbformat_minor": 5
}
